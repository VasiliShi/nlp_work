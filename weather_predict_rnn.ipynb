{
 "cells": [
  {
   "cell_type": "markdown",
   "metadata": {},
   "source": [
    "使用keras来对温度进行预测，数据在[这里](https://s3.amazonaws.com/keras-datasets/jena_climate_2009_2016.csv.zip),"
   ]
  },
  {
   "cell_type": "code",
   "execution_count": 2,
   "metadata": {},
   "outputs": [
    {
     "name": "stdout",
     "output_type": "stream",
     "text": [
      "['\"Date Time\"', '\"p (mbar)\"', '\"T (degC)\"', '\"Tpot (K)\"', '\"Tdew (degC)\"', '\"rh (%)\"', '\"VPmax (mbar)\"', '\"VPact (mbar)\"', '\"VPdef (mbar)\"', '\"sh (g/kg)\"', '\"H2OC (mmol/mol)\"', '\"rho (g/m**3)\"', '\"wv (m/s)\"', '\"max. wv (m/s)\"', '\"wd (deg)\"'] 15\n",
      "数据的长度为420551\n"
     ]
    }
   ],
   "source": [
    "import os\n",
    "data_dir = 'data'\n",
    "fname = os.path.join(data_dir,'jena_climate_2009_2016.csv')\n",
    "f = open(fname)\n",
    "# data = f.readlines()\n",
    "data = f.read()\n",
    "data = data.split('\\n')\n",
    "f.close()\n",
    "header = data[0].split(',')\n",
    "lines = data[1:]\n",
    "print(header,len(header))\n",
    "print(f'数据的长度为{len(lines)}')"
   ]
  },
  {
   "cell_type": "code",
   "execution_count": 3,
   "metadata": {},
   "outputs": [
    {
     "data": {
      "text/plain": [
       "(420551, 14)"
      ]
     },
     "execution_count": 3,
     "metadata": {},
     "output_type": "execute_result"
    }
   ],
   "source": [
    "import numpy as np\n",
    "float_data = np.zeros((len(lines), len(header) - 1))\n",
    "for i, line in enumerate(lines):\n",
    "    values = [float(x) for x in line.split(',')[1:]]\n",
    "    float_data[i,:] = values\n",
    "float_data.shape"
   ]
  },
  {
   "cell_type": "code",
   "execution_count": 4,
   "metadata": {},
   "outputs": [
    {
     "data": {
      "text/plain": [
       "<Figure size 640x480 with 1 Axes>"
      ]
     },
     "metadata": {},
     "output_type": "display_data"
    }
   ],
   "source": [
    "from matplotlib import  pyplot as plt\n",
    "temp = float_data[:,1] # label \n",
    "plt.plot(range(len(temp)), temp)\n",
    "plt.show()"
   ]
  },
  {
   "cell_type": "markdown",
   "metadata": {},
   "source": [
    "由于数据是每10分钟记录一个数据，那么一天将有144个数据。下面将前10天的数据绘制出来"
   ]
  },
  {
   "cell_type": "code",
   "execution_count": 5,
   "metadata": {},
   "outputs": [
    {
     "data": {
      "image/png": "[encoded data removed]",
      "text/plain": [
       "<Figure size 432x288 with 1 Axes>"
      ]
     },
     "metadata": {},
     "output_type": "display_data"
    }
   ],
   "source": [
    "plt.plot(range(1440), temp[:1440])\n",
    "plt.show()"
   ]
  },
  {
   "cell_type": "markdown",
   "metadata": {},
   "source": [
    "从上面图中可以看出每天的数据具有周期性，尤其是最后的4天有着明显的周期性。如果想根据过去几个月的数据来预测下一个月的平均温度，那么问题很简单，因为数据具有周期性。但是从上面的图中数据来看，似乎有些混乱，"
   ]
  },
  {
   "cell_type": "code",
   "execution_count": 6,
   "metadata": {},
   "outputs": [],
   "source": [
    "mean = float_data[:200000].mean(axis=0)\n",
    "float_data -= mean\n",
    "std = float_data[:200000].std(axis=0)\n",
    "float_data/=std"
   ]
  },
  {
   "cell_type": "markdown",
   "metadata": {},
   "source": [
    "### 时间序列准备训练数据的方法🌿"
   ]
  },
  {
   "cell_type": "code",
   "execution_count": 7,
   "metadata": {},
   "outputs": [],
   "source": [
    "def generator(data,lookback, delay, min_index, max_index, shuffle=False, batch_size = 128, step = 6):\n",
    "    \"\"\"\n",
    "    data:原始数据\n",
    "    lookback:过去n步的数据\n",
    "    delay:未来n步之后\n",
    "    min_index和max_index:取出哪些数据\n",
    "    shuffle:打乱样本\n",
    "    batch_size:\n",
    "    step:6为每小时抽取一个数据点\n",
    "    \"\"\"\n",
    "    if max_index is None:\n",
    "        max_index = len(data) - delay - 1\n",
    "        \n",
    "    i = min_index + lookback\n",
    "    while True:\n",
    "        if shuffle:\n",
    "            rows = np.random.randint(min_index, max_index, size = batch_size)# 一个批次的内容\n",
    "        else:\n",
    "            if i+batch_size >= max_index:\n",
    "                i = min_index + lookback\n",
    "            rows = np.range(i, min(i+batch_size, max_index))\n",
    "            i += len(rows)\n",
    "            \n",
    "        samples = np.zeros((len(rows), lookback // step,data.shape[-1]))# (batch_size, 时间，features)\n",
    "        targets = np.zeros((len(rows)))\n",
    "        for j ,row in enumerate(rows):\n",
    "            indices = range(rows[j] - lookback, rows[j], step)\n",
    "            samples[j] = data[indices]\n",
    "            targets[j] = data[rows[j] + delay][1] # 【1】为target\n",
    "        yield samples, targets"
   ]
  },
  {
   "cell_type": "code",
   "execution_count": 8,
   "metadata": {},
   "outputs": [],
   "source": [
    "lookback = 1440\n",
    "step = 6 # 为一个小时\n",
    "delay = 144\n",
    "batch_size = 128\n",
    "train_gen = generator(float_data, \n",
    "                      lookback,\n",
    "                      delay,\n",
    "                      min_index=0, \n",
    "                      max_index=200000,\n",
    "                      shuffle=True,\n",
    "                      step=step,\n",
    "                      batch_size=batch_size)\n",
    "\n",
    "val_gen = generator(float_data, \n",
    "                      lookback,\n",
    "                      delay,\n",
    "                      min_index=200000, \n",
    "                      max_index=300000,\n",
    "                      shuffle=True,\n",
    "                      step=step,\n",
    "                      batch_size=batch_size)\n",
    "train_gen = generator(float_data, \n",
    "                      lookback,\n",
    "                      delay,\n",
    "                      min_index=300000, \n",
    "                      max_index=None,\n",
    "                      shuffle=True,\n",
    "                      step=step,\n",
    "                      batch_size=batch_size)\n",
    "val_steps = (300000 - 200001 - lookback) // batch_size\n",
    "test_steps = (len(float_data) - 300001 - lookback) // batch_size\n"
   ]
  },
  {
   "cell_type": "markdown",
   "metadata": {},
   "source": [
    "### 使用领域知识(a robust baseline )\n",
    "在使用复杂的模型之前，我们先使用一些常识做一个baseline，往往这种基准方法很有用，例如一个不平衡的分类任务，假设有90%的A类，10%的为B类，那么分类任务一个基于常识的方法就是对新来的样本都预测为A类别，这样就有来90%的accuracy。所以任何分类起只有accuracy大于90%才能证明有效。在本数据集中我们可是使用这一种常识：`始终预测24小时后的温度等于现在的温度`。使用平均绝对误差(MAE)指标来评估这种方法。\n",
    "$mae=np.mean(np.abs(preds-targets))$"
   ]
  },
  {
   "cell_type": "code",
   "execution_count": 9,
   "metadata": {},
   "outputs": [
    {
     "name": "stdout",
     "output_type": "stream",
     "text": [
      "0.2901114510357705\n"
     ]
    },
    {
     "data": {
      "text/plain": [
       "2.568211354031209"
      ]
     },
     "execution_count": 9,
     "metadata": {},
     "output_type": "execute_result"
    }
   ],
   "source": [
    "def evaluate_naive_method():\n",
    "    batch_maes = []\n",
    "    for step in range(val_steps):\n",
    "        samples,targets = next(val_gen)\n",
    "        preds = samples[:,-1,1]# （batch中所有的样本，最后一个时刻，第一列）\n",
    "        mae = np.mean(np.abs(preds - targets))\n",
    "        batch_maes.append(mae)\n",
    "    print(np.mean(batch_maes))\n",
    "    return np.mean(batch_maes)\n",
    "\n",
    "val = evaluate_naive_method()\n",
    "\n",
    "val * std[1]"
   ]
  },
  {
   "cell_type": "markdown",
   "metadata": {},
   "source": [
    "### 全连接网络\n",
    "下面先使用一个简单的模型，先将数据展平，通过两个全连接等(dense)，来做回归任务。评估的数据和评估的指标都和领域常识方法完全相同，"
   ]
  },
  {
   "cell_type": "code",
   "execution_count": 10,
   "metadata": {},
   "outputs": [
    {
     "name": "stdout",
     "output_type": "stream",
     "text": [
      "Epoch 1/20\n",
      "500/500 [==============================] - 12s 24ms/step - loss: 2.1919 - val_loss: 0.6099\n",
      "Epoch 2/20\n",
      "500/500 [==============================] - 11s 23ms/step - loss: 1.0914 - val_loss: 0.5945\n",
      "Epoch 3/20\n",
      "500/500 [==============================] - 10s 19ms/step - loss: 0.5669 - val_loss: 0.3355\n",
      "Epoch 4/20\n",
      "500/500 [==============================] - 10s 19ms/step - loss: 0.3987 - val_loss: 0.3757\n",
      "Epoch 5/20\n",
      "500/500 [==============================] - 9s 19ms/step - loss: 0.3643 - val_loss: 0.3069\n",
      "Epoch 6/20\n",
      "500/500 [==============================] - 10s 19ms/step - loss: 0.3496 - val_loss: 0.3322\n",
      "Epoch 7/20\n",
      "500/500 [==============================] - 9s 19ms/step - loss: 0.3532 - val_loss: 0.3187\n",
      "Epoch 8/20\n",
      "500/500 [==============================] - 9s 19ms/step - loss: 0.3474 - val_loss: 0.3173\n",
      "Epoch 9/20\n",
      "500/500 [==============================] - 10s 19ms/step - loss: 0.3568 - val_loss: 0.3524\n",
      "Epoch 10/20\n",
      "500/500 [==============================] - 10s 19ms/step - loss: 0.3558 - val_loss: 0.3435\n",
      "Epoch 11/20\n",
      "500/500 [==============================] - 10s 20ms/step - loss: 0.3543 - val_loss: 0.3312\n",
      "Epoch 12/20\n",
      "500/500 [==============================] - 10s 19ms/step - loss: 0.3568 - val_loss: 0.3329\n",
      "Epoch 13/20\n",
      "500/500 [==============================] - 10s 19ms/step - loss: 0.3719 - val_loss: 0.3401\n",
      "Epoch 14/20\n",
      "500/500 [==============================] - 10s 19ms/step - loss: 0.3748 - val_loss: 0.3494\n",
      "Epoch 15/20\n",
      "500/500 [==============================] - 9s 19ms/step - loss: 0.3732 - val_loss: 0.3313\n",
      "Epoch 16/20\n",
      "500/500 [==============================] - 10s 19ms/step - loss: 0.3611 - val_loss: 0.3450\n",
      "Epoch 17/20\n",
      "500/500 [==============================] - 10s 19ms/step - loss: 0.3707 - val_loss: 0.3426\n",
      "Epoch 18/20\n",
      "500/500 [==============================] - 10s 20ms/step - loss: 0.3648 - val_loss: 0.3441\n",
      "Epoch 19/20\n",
      "500/500 [==============================] - 9s 19ms/step - loss: 0.3699 - val_loss: 0.3648\n",
      "Epoch 20/20\n",
      "500/500 [==============================] - 10s 19ms/step - loss: 0.3656 - val_loss: 0.3376\n",
      "_________________________________________________________________\n",
      "Layer (type)                 Output Shape              Param #   \n",
      "=================================================================\n",
      "flatten_1 (Flatten)          (None, 3360)              0         \n",
      "_________________________________________________________________\n",
      "dense_1 (Dense)              (None, 32)                107552    \n",
      "_________________________________________________________________\n",
      "dense_2 (Dense)              (None, 1)                 33        \n",
      "=================================================================\n",
      "Total params: 107,585\n",
      "Trainable params: 107,585\n",
      "Non-trainable params: 0\n",
      "_________________________________________________________________\n"
     ]
    }
   ],
   "source": [
    "from keras.models import Sequential\n",
    "from keras import  layers\n",
    "from keras.optimizers import RMSprop\n",
    "model = Sequential()\n",
    "model.add(layers.Flatten(input_shape=(lookback//step, float_data.shape[-1]))) # 240 * 14\n",
    "model.add(layers.Dense(32, activation='relu'))\n",
    "model.add(layers.Dense(1)) # no activation fun\n",
    "model.compile(optimizer=RMSprop(), loss='mae')\n",
    "history = model.fit_generator(train_gen,\n",
    "                              steps_per_epoch=500,\n",
    "                              epochs=20, \n",
    "                              validation_data = val_gen, # 数据生成器\n",
    "                              validation_steps = val_steps) # 步数\n",
    "model.summary()\n"
   ]
  },
  {
   "cell_type": "code",
   "execution_count": 11,
   "metadata": {},
   "outputs": [
    {
     "data": {
      "image/png": "[encoded data removed]",
      "text/plain": [
       "<Figure size 432x288 with 1 Axes>"
      ]
     },
     "metadata": {},
     "output_type": "display_data"
    }
   ],
   "source": [
    "loss = history.history['loss']\n",
    "val_loss = history.history['val_loss']\n",
    "epochs = range(1,len(loss) + 1)\n",
    "plt.figure()\n",
    "plt.plot(epochs, loss, 'bo', label='Training loss')\n",
    "plt.plot(epochs, val_loss, 'b', label='Validation loss')\n",
    "plt.title('Training and validation loss')\n",
    "plt.legend()\n",
    "plt.show()"
   ]
  },
  {
   "cell_type": "markdown",
   "metadata": {},
   "source": [
    "### RNN baseline\n",
    "training输入的数据（batch_size,time,features）,target (n,)"
   ]
  },
  {
   "cell_type": "code",
   "execution_count": 12,
   "metadata": {},
   "outputs": [
    {
     "name": "stdout",
     "output_type": "stream",
     "text": [
      "Epoch 1/3\n",
      "500/500 [==============================] - 282s 564ms/step - loss: 0.2871 - val_loss: 0.2798\n",
      "Epoch 2/3\n",
      "500/500 [==============================] - 302s 604ms/step - loss: 0.2636 - val_loss: 0.2731\n",
      "Epoch 3/3\n",
      "500/500 [==============================] - 297s 594ms/step - loss: 0.2559 - val_loss: 0.2760\n"
     ]
    },
    {
     "data": {
      "image/png": "[encoded data removed]",
      "text/plain": [
       "<Figure size 432x288 with 1 Axes>"
      ]
     },
     "metadata": {},
     "output_type": "display_data"
    }
   ],
   "source": [
    "model = Sequential()\n",
    "model.add(layers.GRU(32, input_shape=(None, float_data.shape[-1])))\n",
    "model.add(layers.Dense(1))\n",
    "model.compile(optimizer=RMSprop(), loss='mae')\n",
    "history = model.fit_generator(train_gen,\n",
    "                              steps_per_epoch=500,\n",
    "                              epochs=3, # 20 to seep up training \n",
    "                              validation_data = val_gen, # 数据生成器\n",
    "                              validation_steps = val_steps) # 步数\n",
    "loss = history.history['loss']\n",
    "val_loss = history.history['val_loss']\n",
    "epochs = range(1,len(loss) + 1)\n",
    "plt.figure()\n",
    "plt.plot(epochs, loss, 'bo', label='Training loss')\n",
    "plt.plot(epochs, val_loss, 'b', label='Validation loss')\n",
    "plt.title('Training and validation loss')\n",
    "plt.legend()\n",
    "plt.show()"
   ]
  },
  {
   "cell_type": "markdown",
   "metadata": {},
   "source": [
    "### 采用dropout来降低过拟合\n",
    "从实验的结果图中可以看出模型的结果出现来过拟合，可以通过采用dropout来降低过拟合，其原理是将某一层的输入单元随机设为0，目的是打破该层训练数据中的偶然相关性。在RNN中dropout的正确使用方法是对每个时间步采用相同的mask，而不是mask随着时间的增加而随机变化。keras的每个循环层都有两个与dropout相关的参数，一个是dropout，指定该层输入单元的dropout比例；另一个是recurrent_droupout指定循环单元的dropout的比例。下面代码采用这两种dropout。采用dropout之后网络需要更长的时间才能收敛，所以在训练的时候需要更多的epoch。"
   ]
  },
  {
   "cell_type": "code",
   "execution_count": 13,
   "metadata": {},
   "outputs": [
    {
     "name": "stdout",
     "output_type": "stream",
     "text": [
      "_________________________________________________________________\n",
      "Layer (type)                 Output Shape              Param #   \n",
      "=================================================================\n",
      "gru_2 (GRU)                  (None, 32)                4512      \n",
      "_________________________________________________________________\n",
      "dense_4 (Dense)              (None, 1)                 33        \n",
      "=================================================================\n",
      "Total params: 4,545\n",
      "Trainable params: 4,545\n",
      "Non-trainable params: 0\n",
      "_________________________________________________________________\n"
     ]
    }
   ],
   "source": [
    "from keras.models import Sequential\n",
    "from keras import layers\n",
    "from keras.optimizers import RMSprop\n",
    "model = Sequential()\n",
    "model.add(layers.GRU(32, \n",
    "                    dropout=0.2,\n",
    "                    recurrent_dropout=0.2, \n",
    "                    input_shape=(None, float_data.shape[-1])))\n",
    "model.add(layers.Dense(1))\n",
    "model.compile(optimizer=RMSprop(), loss='mae')\n",
    "model.summary()"
   ]
  },
  {
   "cell_type": "code",
   "execution_count": 14,
   "metadata": {},
   "outputs": [
    {
     "name": "stdout",
     "output_type": "stream",
     "text": [
      "Epoch 1/40\n",
      "500/500 [==============================] - 356s 712ms/step - loss: 0.3187 - val_loss: 0.2845\n",
      "Epoch 2/40\n",
      "500/500 [==============================] - 330s 659ms/step - loss: 0.2988 - val_loss: 0.2818\n",
      "Epoch 3/40\n",
      "500/500 [==============================] - 334s 668ms/step - loss: 0.2933 - val_loss: 0.2869\n",
      "Epoch 4/40\n",
      "500/500 [==============================] - 327s 654ms/step - loss: 0.2890 - val_loss: 0.2780\n",
      "Epoch 5/40\n",
      "500/500 [==============================] - 330s 660ms/step - loss: 0.2831 - val_loss: 0.2824\n",
      "Epoch 6/40\n",
      "500/500 [==============================] - 301s 601ms/step - loss: 0.2806 - val_loss: 0.2795\n",
      "Epoch 7/40\n",
      "500/500 [==============================] - 300s 600ms/step - loss: 0.2766 - val_loss: 0.2794\n",
      "Epoch 8/40\n",
      "500/500 [==============================] - 299s 599ms/step - loss: 0.2738 - val_loss: 0.2824\n",
      "Epoch 9/40\n",
      "500/500 [==============================] - 299s 597ms/step - loss: 0.2731 - val_loss: 0.2838\n",
      "Epoch 10/40\n",
      "500/500 [==============================] - 299s 597ms/step - loss: 0.2703 - val_loss: 0.2811\n",
      "Epoch 11/40\n",
      "500/500 [==============================] - 298s 596ms/step - loss: 0.2703 - val_loss: 0.2860\n",
      "Epoch 12/40\n",
      "500/500 [==============================] - 299s 597ms/step - loss: 0.2664 - val_loss: 0.2825\n",
      "Epoch 13/40\n",
      "500/500 [==============================] - 298s 597ms/step - loss: 0.2657 - val_loss: 0.2813\n",
      "Epoch 14/40\n",
      "500/500 [==============================] - 298s 597ms/step - loss: 0.2640 - val_loss: 0.2863\n",
      "Epoch 15/40\n",
      "500/500 [==============================] - 299s 597ms/step - loss: 0.2637 - val_loss: 0.2835\n",
      "Epoch 16/40\n",
      "500/500 [==============================] - 299s 599ms/step - loss: 0.2620 - val_loss: 0.2829\n",
      "Epoch 17/40\n",
      "500/500 [==============================] - 300s 599ms/step - loss: 0.2608 - val_loss: 0.2817\n",
      "Epoch 18/40\n",
      "500/500 [==============================] - 299s 598ms/step - loss: 0.2600 - val_loss: 0.2892\n",
      "Epoch 19/40\n",
      "500/500 [==============================] - 300s 600ms/step - loss: 0.2590 - val_loss: 0.2834\n",
      "Epoch 20/40\n",
      "500/500 [==============================] - 300s 600ms/step - loss: 0.2574 - val_loss: 0.2841\n",
      "Epoch 21/40\n",
      "500/500 [==============================] - 301s 602ms/step - loss: 0.2563 - val_loss: 0.2866\n",
      "Epoch 22/40\n",
      "500/500 [==============================] - 301s 602ms/step - loss: 0.2568 - val_loss: 0.2876\n",
      "Epoch 23/40\n",
      "500/500 [==============================] - 301s 603ms/step - loss: 0.2548 - val_loss: 0.2845\n",
      "Epoch 24/40\n",
      "500/500 [==============================] - 301s 602ms/step - loss: 0.2552 - val_loss: 0.2848\n",
      "Epoch 25/40\n",
      "500/500 [==============================] - 302s 604ms/step - loss: 0.2535 - val_loss: 0.2779\n",
      "Epoch 26/40\n",
      "500/500 [==============================] - 302s 604ms/step - loss: 0.2538 - val_loss: 0.2818\n",
      "Epoch 27/40\n",
      "500/500 [==============================] - 302s 604ms/step - loss: 0.2528 - val_loss: 0.2861\n",
      "Epoch 28/40\n",
      "500/500 [==============================] - 302s 605ms/step - loss: 0.2520 - val_loss: 0.2918\n",
      "Epoch 29/40\n",
      "500/500 [==============================] - 302s 605ms/step - loss: 0.2515 - val_loss: 0.2853\n",
      "Epoch 30/40\n",
      "500/500 [==============================] - 302s 604ms/step - loss: 0.2520 - val_loss: 0.2844\n",
      "Epoch 31/40\n",
      "500/500 [==============================] - 302s 604ms/step - loss: 0.2502 - val_loss: 0.2877\n",
      "Epoch 32/40\n",
      "500/500 [==============================] - 302s 604ms/step - loss: 0.2502 - val_loss: 0.2838\n",
      "Epoch 33/40\n",
      "500/500 [==============================] - 303s 605ms/step - loss: 0.2474 - val_loss: 0.2892\n",
      "Epoch 34/40\n",
      "500/500 [==============================] - 302s 604ms/step - loss: 0.2486 - val_loss: 0.2837\n",
      "Epoch 35/40\n",
      "500/500 [==============================] - 303s 606ms/step - loss: 0.2506 - val_loss: 0.2883\n",
      "Epoch 36/40\n",
      "500/500 [==============================] - 302s 604ms/step - loss: 0.2478 - val_loss: 0.2857\n",
      "Epoch 37/40\n",
      "500/500 [==============================] - 302s 604ms/step - loss: 0.2459 - val_loss: 0.2860\n",
      "Epoch 38/40\n",
      "500/500 [==============================] - 302s 604ms/step - loss: 0.2474 - val_loss: 0.2910\n",
      "Epoch 39/40\n",
      "500/500 [==============================] - 303s 605ms/step - loss: 0.2463 - val_loss: 0.2847\n",
      "Epoch 40/40\n",
      "500/500 [==============================] - 302s 605ms/step - loss: 0.2460 - val_loss: 0.2885\n"
     ]
    },
    {
     "data": {
      "image/png": "[encoded data removed]",
      "text/plain": [
       "<Figure size 432x288 with 1 Axes>"
      ]
     },
     "metadata": {},
     "output_type": "display_data"
    }
   ],
   "source": [
    "history = model.fit_generator(train_gen,\n",
    "                              steps_per_epoch=500,\n",
    "                              epochs=40, # 20 to seep up training \n",
    "                              validation_data = val_gen, # 数据生成器\n",
    "                              validation_steps = val_steps) # 步数\n",
    "loss = history.history['loss']\n",
    "val_loss = history.history['val_loss']\n",
    "epochs = range(1,len(loss) + 1)\n",
    "plt.figure()\n",
    "plt.plot(epochs, loss, 'bo', label='Training loss')\n",
    "plt.plot(epochs, val_loss, 'b', label='Validation loss')\n",
    "plt.title('Training and validation loss')\n",
    "plt.legend()\n",
    "plt.show()"
   ]
  },
  {
   "cell_type": "markdown",
   "metadata": {},
   "source": [
    "### 循环层叠加\n",
    "模型不再出现过拟合，但性能出现来瓶颈，这时候就要考虑**增加网络的容量**，增加网络容量的做法是增加每层单元个数或增加层数，这下面采用堆叠(recurrent layer stacking)来构建更加强大的网络，再keras中逐个堆叠循环层，所有中间都应该**返回完整的输出序列**，而不是最后一个时间步骤的输出(final state)，可以通过指定return_sequences=True来实现。"
   ]
  },
  {
   "cell_type": "code",
   "execution_count": 15,
   "metadata": {},
   "outputs": [
    {
     "name": "stdout",
     "output_type": "stream",
     "text": [
      "Epoch 1/40\n",
      "500/500 [==============================] - 752s 2s/step - loss: 0.3225 - val_loss: 0.2830\n",
      "Epoch 2/40\n",
      "500/500 [==============================] - 747s 1s/step - loss: 0.2992 - val_loss: 0.2777\n",
      "Epoch 3/40\n",
      "500/500 [==============================] - 751s 2s/step - loss: 0.2938 - val_loss: 0.2833\n",
      "Epoch 4/40\n",
      "500/500 [==============================] - 750s 2s/step - loss: 0.2866 - val_loss: 0.2804\n",
      "Epoch 5/40\n",
      "500/500 [==============================] - 750s 2s/step - loss: 0.2810 - val_loss: 0.2844\n",
      "Epoch 6/40\n",
      "500/500 [==============================] - 751s 2s/step - loss: 0.2754 - val_loss: 0.2800\n",
      "Epoch 7/40\n",
      "500/500 [==============================] - 750s 2s/step - loss: 0.2710 - val_loss: 0.2816\n",
      "Epoch 8/40\n",
      "500/500 [==============================] - 751s 2s/step - loss: 0.2668 - val_loss: 0.2832\n",
      "Epoch 9/40\n",
      "500/500 [==============================] - 751s 2s/step - loss: 0.2643 - val_loss: 0.2828\n",
      "Epoch 10/40\n",
      "500/500 [==============================] - 751s 2s/step - loss: 0.2615 - val_loss: 0.2832\n",
      "Epoch 11/40\n",
      "500/500 [==============================] - 751s 2s/step - loss: 0.2579 - val_loss: 0.2823\n",
      "Epoch 12/40\n",
      "500/500 [==============================] - 753s 2s/step - loss: 0.2544 - val_loss: 0.2854\n",
      "Epoch 13/40\n",
      "500/500 [==============================] - 752s 2s/step - loss: 0.2535 - val_loss: 0.2866\n",
      "Epoch 14/40\n",
      "500/500 [==============================] - 752s 2s/step - loss: 0.2516 - val_loss: 0.2907\n",
      "Epoch 15/40\n",
      "500/500 [==============================] - 756s 2s/step - loss: 0.2484 - val_loss: 0.2909\n",
      "Epoch 16/40\n",
      "500/500 [==============================] - 761s 2s/step - loss: 0.2463 - val_loss: 0.2940\n",
      "Epoch 17/40\n",
      "500/500 [==============================] - 764s 2s/step - loss: 0.2454 - val_loss: 0.2892\n",
      "Epoch 18/40\n",
      "500/500 [==============================] - 766s 2s/step - loss: 0.2426 - val_loss: 0.2992\n",
      "Epoch 19/40\n",
      "500/500 [==============================] - 766s 2s/step - loss: 0.2408 - val_loss: 0.2946\n",
      "Epoch 20/40\n",
      "500/500 [==============================] - 766s 2s/step - loss: 0.2394 - val_loss: 0.2953\n",
      "Epoch 21/40\n",
      "500/500 [==============================] - 767s 2s/step - loss: 0.2381 - val_loss: 0.2972\n",
      "Epoch 22/40\n",
      "500/500 [==============================] - 768s 2s/step - loss: 0.2369 - val_loss: 0.3115\n",
      "Epoch 23/40\n",
      "500/500 [==============================] - 769s 2s/step - loss: 0.2356 - val_loss: 0.2961\n",
      "Epoch 24/40\n",
      "500/500 [==============================] - 770s 2s/step - loss: 0.2344 - val_loss: 0.3033\n",
      "Epoch 25/40\n",
      "500/500 [==============================] - 766s 2s/step - loss: 0.2322 - val_loss: 0.2994\n",
      "Epoch 26/40\n",
      "500/500 [==============================] - 772s 2s/step - loss: 0.2323 - val_loss: 0.3010\n",
      "Epoch 27/40\n",
      "500/500 [==============================] - 772s 2s/step - loss: 0.2309 - val_loss: 0.3060\n",
      "Epoch 28/40\n",
      "500/500 [==============================] - 769s 2s/step - loss: 0.2307 - val_loss: 0.3013\n",
      "Epoch 29/40\n",
      "500/500 [==============================] - 762s 2s/step - loss: 0.2299 - val_loss: 0.3027\n",
      "Epoch 30/40\n",
      "500/500 [==============================] - 755s 2s/step - loss: 0.2289 - val_loss: 0.3036\n",
      "Epoch 31/40\n",
      "500/500 [==============================] - 750s 2s/step - loss: 0.2277 - val_loss: 0.3058\n",
      "Epoch 32/40\n",
      "500/500 [==============================] - 749s 1s/step - loss: 0.2266 - val_loss: 0.3031\n",
      "Epoch 33/40\n",
      "500/500 [==============================] - 746s 1s/step - loss: 0.2254 - val_loss: 0.3070\n",
      "Epoch 34/40\n",
      "500/500 [==============================] - 743s 1s/step - loss: 0.2258 - val_loss: 0.3055\n",
      "Epoch 35/40\n",
      "500/500 [==============================] - 743s 1s/step - loss: 0.2243 - val_loss: 0.3041\n",
      "Epoch 36/40\n",
      "500/500 [==============================] - 741s 1s/step - loss: 0.2230 - val_loss: 0.3064\n",
      "Epoch 37/40\n",
      "500/500 [==============================] - 742s 1s/step - loss: 0.2231 - val_loss: 0.3130\n",
      "Epoch 38/40\n",
      "500/500 [==============================] - 741s 1s/step - loss: 0.2238 - val_loss: 0.3030\n",
      "Epoch 39/40\n",
      "500/500 [==============================] - 741s 1s/step - loss: 0.2213 - val_loss: 0.3097\n",
      "Epoch 40/40\n",
      "500/500 [==============================] - 742s 1s/step - loss: 0.2207 - val_loss: 0.3075\n"
     ]
    },
    {
     "data": {
      "image/png": "[encoded data removed]",
      "text/plain": [
       "<Figure size 432x288 with 1 Axes>"
      ]
     },
     "metadata": {},
     "output_type": "display_data"
    }
   ],
   "source": [
    "model = Sequential()\n",
    "model.add(layers.GRU(32,\n",
    "                    dropout=0.1,\n",
    "                    recurrent_dropout=0.5,\n",
    "                    return_sequences=True,\n",
    "                    input_shape=(None, float_data.shape[-1])))\n",
    "model.add(layers.GRU(64,\n",
    "                     dropout = 0.1,\n",
    "                     recurrent_dropout=0.5\n",
    "                    ))\n",
    "model.add(layers.Dense(1))\n",
    "model.compile(optimizer=RMSprop(), loss='mae')\n",
    "\n",
    "history = model.fit_generator(train_gen,\n",
    "                              steps_per_epoch=500,\n",
    "                              epochs=40, # \n",
    "                              validation_data = val_gen, # 数据生成器\n",
    "                              validation_steps = val_steps) # 步数\n",
    "\n",
    "loss = history.history['loss']\n",
    "val_loss = history.history['val_loss']\n",
    "epochs = range(1,len(loss) + 1)\n",
    "plt.figure()\n",
    "plt.plot(epochs, loss, 'bo', label='Training loss')\n",
    "plt.plot(epochs, val_loss, 'b', label='Validation loss')\n",
    "plt.title('Training and validation loss')\n",
    "plt.legend()\n",
    "plt.show()"
   ]
  },
  {
   "cell_type": "markdown",
   "metadata": {},
   "source": [
    "从上面的结果图中可以看得出模型已经出现考虑严重的过拟合"
   ]
  }
 ],
 "metadata": {
  "kernelspec": {
   "display_name": "Python 3",
   "language": "python",
   "name": "python3"
  },
  "language_info": {
   "codemirror_mode": {
    "name": "ipython",
    "version": 3
   },
   "file_extension": ".py",
   "mimetype": "text/x-python",
   "name": "python",
   "nbconvert_exporter": "python",
   "pygments_lexer": "ipython3",
   "version": "3.6.8"
  }
 },
 "nbformat": 4,
 "nbformat_minor": 2
}
