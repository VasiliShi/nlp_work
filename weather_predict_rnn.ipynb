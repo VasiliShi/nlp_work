{
 "cells": [
  {
   "cell_type": "markdown",
   "metadata": {},
   "source": [
    "使用keras来对温度进行预测，数据在[这里](https://s3.amazonaws.com/keras-datasets/jena_climate_2009_2016.csv.zip),"
   ]
  },
  {
   "cell_type": "code",
   "execution_count": 3,
   "metadata": {},
   "outputs": [
    {
     "name": "stdout",
     "output_type": "stream",
     "text": [
      "['\"Date Time\"', '\"p (mbar)\"', '\"T (degC)\"', '\"Tpot (K)\"', '\"Tdew (degC)\"', '\"rh (%)\"', '\"VPmax (mbar)\"', '\"VPact (mbar)\"', '\"VPdef (mbar)\"', '\"sh (g/kg)\"', '\"H2OC (mmol/mol)\"', '\"rho (g/m**3)\"', '\"wv (m/s)\"', '\"max. wv (m/s)\"', '\"wd (deg)\"'] 15\n",
      "数据的长度为420551\n"
     ]
    }
   ],
   "source": [
    "import os\n",
    "data_dir = 'data'\n",
    "fname = os.path.join(data_dir,'jena_climate_2009_2016.csv')\n",
    "f = open(fname)\n",
    "# data = f.readlines()\n",
    "data = f.read()\n",
    "data = data.split('\\n')\n",
    "f.close()\n",
    "header = data[0].split(',')\n",
    "lines = data[1:]\n",
    "print(header,len(header))\n",
    "print(f'数据的长度为{len(lines)}')"
   ]
  },
  {
   "cell_type": "code",
   "execution_count": 4,
   "metadata": {},
   "outputs": [
    {
     "data": {
      "text/plain": [
       "(420551, 14)"
      ]
     },
     "execution_count": 4,
     "metadata": {},
     "output_type": "execute_result"
    }
   ],
   "source": [
    "import numpy as np\n",
    "float_data = np.zeros((len(lines), len(header) - 1))\n",
    "for i, line in enumerate(lines):\n",
    "    values = [float(x) for x in line.split(',')[1:]]\n",
    "    float_data[i,:] = values\n",
    "float_data.shape"
   ]
  },
  {
   "cell_type": "code",
   "execution_count": 5,
   "metadata": {},
   "outputs": [
    {
     "data": {
      "text/plain": [
       "<Figure size 640x480 with 1 Axes>"
      ]
     },
     "metadata": {},
     "output_type": "display_data"
    }
   ],
   "source": [
    "from matplotlib import  pyplot as plt\n",
    "temp = float_data[:,1] # label \n",
    "plt.plot(range(len(temp)), temp)\n",
    "plt.show()"
   ]
  },
  {
   "cell_type": "markdown",
   "metadata": {},
   "source": [
    "由于数据是每10分钟记录一个数据，那么一天将有144个数据。下面将前10天的数据绘制出来"
   ]
  },
  {
   "cell_type": "code",
   "execution_count": 6,
   "metadata": {},
   "outputs": [
    {
     "data": {
      "image/png": "[encoded data removed]",
      "text/plain": [
       "<Figure size 432x288 with 1 Axes>"
      ]
     },
     "metadata": {},
     "output_type": "display_data"
    }
   ],
   "source": [
    "plt.plot(range(1440), temp[:1440])\n",
    "plt.show()"
   ]
  },
  {
   "cell_type": "markdown",
   "metadata": {},
   "source": [
    "从上面图中可以看出每天的数据具有周期性，尤其是最后的4天有着明显的周期性。如果想根据过去几个月的数据来预测下一个月的平均温度，那么问题很简单，因为数据具有周期性。但是从上面的图中数据来看，似乎有些混乱，"
   ]
  },
  {
   "cell_type": "code",
   "execution_count": 7,
   "metadata": {},
   "outputs": [],
   "source": [
    "mean = float_data[:200000].mean(axis=0)\n",
    "float_data -= mean\n",
    "std = float_data[:200000].std(axis=0)\n",
    "float_data/=std"
   ]
  },
  {
   "cell_type": "markdown",
   "metadata": {},
   "source": [
    "### 时间序列准备训练数据的方法🌿"
   ]
  },
  {
   "cell_type": "code",
   "execution_count": 8,
   "metadata": {},
   "outputs": [],
   "source": [
    "def generator(data,lookback, delay, min_index, max_index, shuffle=False, batch_size = 128, step = 6):\n",
    "    \"\"\"\n",
    "    data:原始数据\n",
    "    lookback:过去n步的数据\n",
    "    delay:未来n步之后\n",
    "    min_index和max_index:取出哪些数据\n",
    "    shuffle:打乱样本\n",
    "    batch_size:\n",
    "    step:6为每小时抽取一个数据点\n",
    "    \"\"\"\n",
    "    if max_index is None:\n",
    "        max_index = len(data) - delay - 1\n",
    "        \n",
    "    i = min_index + lookback\n",
    "    while True:\n",
    "        if shuffle:\n",
    "            rows = np.random.randint(min_index, max_index, size = batch_size)# 一个批次的内容\n",
    "        else:\n",
    "            if i+batch_size >= max_index:\n",
    "                i = min_index + lookback\n",
    "            rows = np.range(i, min(i+batch_size, max_index))\n",
    "            i += len(rows)\n",
    "            \n",
    "        samples = np.zeros((len(rows), lookback // step,data.shape[-1]))# (batch_size, 时间，features)\n",
    "        targets = np.zeros((len(rows)))\n",
    "        for j ,row in enumerate(rows):\n",
    "            indices = range(rows[j] - lookback, rows[j], step)\n",
    "            samples[j] = data[indices]\n",
    "            targets[j] = data[rows[j] + delay][1] # 【1】为target\n",
    "        yield samples, targets"
   ]
  },
  {
   "cell_type": "code",
   "execution_count": 9,
   "metadata": {},
   "outputs": [],
   "source": [
    "lookback = 1440\n",
    "step = 6 # 为一个小时\n",
    "delay = 144\n",
    "batch_size = 128\n",
    "train_gen = generator(float_data, \n",
    "                      lookback,\n",
    "                      delay,\n",
    "                      min_index=0, \n",
    "                      max_index=200000,\n",
    "                      shuffle=True,\n",
    "                      step=step,\n",
    "                      batch_size=batch_size)\n",
    "\n",
    "val_gen = generator(float_data, \n",
    "                      lookback,\n",
    "                      delay,\n",
    "                      min_index=200000, \n",
    "                      max_index=300000,\n",
    "                      shuffle=True,\n",
    "                      step=step,\n",
    "                      batch_size=batch_size)\n",
    "train_gen = generator(float_data, \n",
    "                      lookback,\n",
    "                      delay,\n",
    "                      min_index=300000, \n",
    "                      max_index=None,\n",
    "                      shuffle=True,\n",
    "                      step=step,\n",
    "                      batch_size=batch_size)\n",
    "val_steps = (300000 - 200001 - lookback) // batch_size\n",
    "test_steps = (len(float_data) - 300001 - lookback) // batch_size\n"
   ]
  },
  {
   "cell_type": "markdown",
   "metadata": {},
   "source": [
    "### 使用领域知识(a robust baseline )\n",
    "在使用复杂的模型之前，我们先使用一些常识做一个baseline，往往这种基准方法很有用，例如一个不平衡的分类任务，假设有90%的A类，10%的为B类，那么分类任务一个基于常识的方法就是对新来的样本都预测为A类别，这样就有来90%的accuracy。所以任何分类起只有accuracy大于90%才能证明有效。在本数据集中我们可是使用这一种常识：`始终预测24小时后的温度等于现在的温度`。使用平均绝对误差(MAE)指标来评估这种方法。\n",
    "$mae=np.mean(np.abs(preds-targets))$"
   ]
  },
  {
   "cell_type": "code",
   "execution_count": 10,
   "metadata": {},
   "outputs": [
    {
     "name": "stdout",
     "output_type": "stream",
     "text": [
      "0.2901310064666972\n"
     ]
    },
    {
     "data": {
      "text/plain": [
       "2.5683844684655397"
      ]
     },
     "execution_count": 10,
     "metadata": {},
     "output_type": "execute_result"
    }
   ],
   "source": [
    "def evaluate_naive_method():\n",
    "    batch_maes = []\n",
    "    for step in range(val_steps):\n",
    "        samples,targets = next(val_gen)\n",
    "        preds = samples[:,-1,1]# （batch中所有的样本，最后一个时刻，第一列）\n",
    "        mae = np.mean(np.abs(preds - targets))\n",
    "        batch_maes.append(mae)\n",
    "    print(np.mean(batch_maes))\n",
    "    return np.mean(batch_maes)\n",
    "\n",
    "val = evaluate_naive_method()\n",
    "\n",
    "val * std[1]"
   ]
  },
  {
   "cell_type": "markdown",
   "metadata": {},
   "source": [
    "### 全连接网络\n",
    "下面先使用一个简单的模型，先将数据展平，通过两个全连接等(dense)，来做回归任务。评估的数据和评估的指标都和领域常识方法完全相同，"
   ]
  },
  {
   "cell_type": "code",
   "execution_count": 23,
   "metadata": {},
   "outputs": [
    {
     "name": "stdout",
     "output_type": "stream",
     "text": [
      "Epoch 1/20\n",
      "500/500 [==============================] - 11s 22ms/step - loss: 2.8155 - val_loss: 1.3246\n",
      "Epoch 2/20\n",
      "500/500 [==============================] - 10s 20ms/step - loss: 1.5386 - val_loss: 0.6979\n",
      "Epoch 3/20\n",
      "500/500 [==============================] - 10s 21ms/step - loss: 0.8677 - val_loss: 0.5671\n",
      "Epoch 4/20\n",
      "500/500 [==============================] - 10s 20ms/step - loss: 0.5238 - val_loss: 0.3203\n",
      "Epoch 5/20\n",
      "500/500 [==============================] - 10s 20ms/step - loss: 0.3755 - val_loss: 0.3313\n",
      "Epoch 6/20\n",
      "500/500 [==============================] - 10s 20ms/step - loss: 0.3586 - val_loss: 0.3082\n",
      "Epoch 7/20\n",
      "500/500 [==============================] - 10s 19ms/step - loss: 0.3466 - val_loss: 0.3058\n",
      "Epoch 8/20\n",
      "500/500 [==============================] - 10s 20ms/step - loss: 0.3511 - val_loss: 0.3156\n",
      "Epoch 9/20\n",
      "500/500 [==============================] - 10s 20ms/step - loss: 0.3488 - val_loss: 0.3669\n",
      "Epoch 10/20\n",
      "500/500 [==============================] - 10s 19ms/step - loss: 0.3395 - val_loss: 0.3470\n",
      "Epoch 11/20\n",
      "500/500 [==============================] - 10s 19ms/step - loss: 0.3512 - val_loss: 0.3209\n",
      "Epoch 12/20\n",
      "500/500 [==============================] - 10s 19ms/step - loss: 0.3472 - val_loss: 0.3293\n",
      "Epoch 13/20\n",
      "500/500 [==============================] - 9s 19ms/step - loss: 0.3496 - val_loss: 0.3468\n",
      "Epoch 14/20\n",
      "500/500 [==============================] - 10s 19ms/step - loss: 0.3480 - val_loss: 0.3215\n",
      "Epoch 15/20\n",
      "500/500 [==============================] - 10s 19ms/step - loss: 0.3502 - val_loss: 0.3307\n",
      "Epoch 16/20\n",
      "500/500 [==============================] - 10s 20ms/step - loss: 0.3553 - val_loss: 0.3265\n",
      "Epoch 17/20\n",
      "500/500 [==============================] - 10s 20ms/step - loss: 0.3608 - val_loss: 0.3166\n",
      "Epoch 18/20\n",
      "500/500 [==============================] - 11s 22ms/step - loss: 0.3590 - val_loss: 0.3178\n",
      "Epoch 19/20\n",
      "500/500 [==============================] - 9s 19ms/step - loss: 0.3699 - val_loss: 0.3289\n",
      "Epoch 20/20\n",
      "500/500 [==============================] - 11s 22ms/step - loss: 0.3680 - val_loss: 0.3272\n",
      "_________________________________________________________________\n",
      "Layer (type)                 Output Shape              Param #   \n",
      "=================================================================\n",
      "flatten_4 (Flatten)          (None, 3360)              0         \n",
      "_________________________________________________________________\n",
      "dense_9 (Dense)              (None, 32)                107552    \n",
      "_________________________________________________________________\n",
      "dense_10 (Dense)             (None, 1)                 33        \n",
      "=================================================================\n",
      "Total params: 107,585\n",
      "Trainable params: 107,585\n",
      "Non-trainable params: 0\n",
      "_________________________________________________________________\n"
     ]
    }
   ],
   "source": [
    "from keras.models import Sequential\n",
    "from keras import  layers\n",
    "from keras.optimizers import RMSprop\n",
    "model = Sequential()\n",
    "model.add(layers.Flatten(input_shape=(lookback//step, float_data.shape[-1]))) # 240 * 14\n",
    "model.add(layers.Dense(32, activation='relu'))\n",
    "model.add(layers.Dense(1)) # no activation fun\n",
    "model.compile(optimizer=RMSprop(), loss='mae')\n",
    "history = model.fit_generator(train_gen,\n",
    "                              steps_per_epoch=500,\n",
    "                              epochs=20, \n",
    "                              validation_data = val_gen, # 数据生成器\n",
    "                              validation_steps = val_steps) # 步数\n",
    "model.summary()\n"
   ]
  },
  {
   "cell_type": "code",
   "execution_count": 17,
   "metadata": {},
   "outputs": [
    {
     "data": {
      "image/png": "[encoded data removed]",
      "text/plain": [
       "<Figure size 432x288 with 1 Axes>"
      ]
     },
     "metadata": {},
     "output_type": "display_data"
    }
   ],
   "source": [
    "loss = history.history['loss']\n",
    "val_loss = history.history['val_loss']\n",
    "epochs = range(1,len(loss) + 1)\n",
    "plt.figure()\n",
    "plt.plot(epochs, loss, 'bo', label='Training loss')\n",
    "plt.plot(epochs, val_loss, 'b', label='Validation loss')\n",
    "plt.title('Training and validation loss')\n",
    "plt.legend()\n",
    "plt.show()"
   ]
  },
  {
   "cell_type": "markdown",
   "metadata": {},
   "source": [
    "### RNN baseline\n",
    "training输入的数据（batch_size,time,features）,target (n,)"
   ]
  },
  {
   "cell_type": "code",
   "execution_count": 20,
   "metadata": {},
   "outputs": [
    {
     "name": "stdout",
     "output_type": "stream",
     "text": [
      "Epoch 1/3\n",
      "500/500 [==============================] - 295s 589ms/step - loss: 0.2900 - val_loss: 0.2769\n",
      "Epoch 2/3\n",
      "500/500 [==============================] - 295s 590ms/step - loss: 0.2693 - val_loss: 0.2750\n",
      "Epoch 3/3\n",
      "500/500 [==============================] - 293s 586ms/step - loss: 0.2609 - val_loss: 0.2753\n"
     ]
    },
    {
     "data": {
      "image/png": "[encoded data removed]",
      "text/plain": [
       "<Figure size 432x288 with 1 Axes>"
      ]
     },
     "metadata": {},
     "output_type": "display_data"
    }
   ],
   "source": [
    "model = Sequential()\n",
    "model.add(layers.GRU(32, input_shape=(None, float_data.shape[-1])))\n",
    "model.add(layers.Dense(1))\n",
    "model.compile(optimizer=RMSprop(), loss='mae')\n",
    "history = model.fit_generator(train_gen,\n",
    "                              steps_per_epoch=500,\n",
    "                              epochs=3, # 20 to seep up training \n",
    "                              validation_data = val_gen, # 数据生成器\n",
    "                              validation_steps = val_steps) # 步数\n",
    "loss = history.history['loss']\n",
    "val_loss = history.history['val_loss']\n",
    "epochs = range(1,len(loss) + 1)\n",
    "plt.figure()\n",
    "plt.plot(epochs, loss, 'bo', label='Training loss')\n",
    "plt.plot(epochs, val_loss, 'b', label='Validation loss')\n",
    "plt.title('Training and validation loss')\n",
    "plt.legend()\n",
    "plt.show()"
   ]
  },
  {
   "cell_type": "code",
   "execution_count": 25,
   "metadata": {},
   "outputs": [
    {
     "name": "stdout",
     "output_type": "stream",
     "text": [
      "_________________________________________________________________\n",
      "Layer (type)                 Output Shape              Param #   \n",
      "=================================================================\n",
      "gru_3 (GRU)                  (None, 32)                4512      \n",
      "_________________________________________________________________\n",
      "dense_11 (Dense)             (None, 1)                 33        \n",
      "=================================================================\n",
      "Total params: 4,545\n",
      "Trainable params: 4,545\n",
      "Non-trainable params: 0\n",
      "_________________________________________________________________\n"
     ]
    }
   ],
   "source": [
    "model.summary()"
   ]
  }
 ],
 "metadata": {
  "kernelspec": {
   "display_name": "Python 3",
   "language": "python",
   "name": "python3"
  },
  "language_info": {
   "codemirror_mode": {
    "name": "ipython",
    "version": 3
   },
   "file_extension": ".py",
   "mimetype": "text/x-python",
   "name": "python",
   "nbconvert_exporter": "python",
   "pygments_lexer": "ipython3",
   "version": "3.6.8"
  }
 },
 "nbformat": 4,
 "nbformat_minor": 2
}
